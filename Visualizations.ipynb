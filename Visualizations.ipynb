{
 "cells": [
  {
   "cell_type": "code",
   "execution_count": 77,
   "metadata": {},
   "outputs": [],
   "source": [
    "import pandas as pd\n",
    "import geopandas as gpd\n",
    "import matplotlib.pyplot as plt\n",
    "import ParseData\n",
    "import scipy.stats as stats\n",
    "import numpy as np\n",
    "\n",
    "import importlib\n",
    "importlib.reload(ParseData)\n",
    "\n",
    "\n",
    "Data = ParseData.GetData()"
   ]
  },
  {
   "cell_type": "code",
   "execution_count": 82,
   "metadata": {},
   "outputs": [
    {
     "name": "stdout",
     "output_type": "stream",
     "text": [
      "Total Police Killings in Canada: Jan 2000 - June 2020: 586\n",
      "49\n",
      "DATE\n",
      "2000-01-01    19\n",
      "2001-01-01    15\n",
      "2002-01-01    14\n",
      "2003-01-01    15\n",
      "2004-01-01    27\n",
      "2005-01-01    31\n",
      "2006-01-01    22\n",
      "2007-01-01    28\n",
      "2008-01-01    25\n",
      "2009-01-01    25\n",
      "2010-01-01    29\n",
      "2011-01-01    29\n",
      "2012-01-01    23\n",
      "2013-01-01    24\n",
      "2014-01-01    24\n",
      "2015-01-01    36\n",
      "2016-01-01    40\n",
      "2017-01-01    34\n",
      "2018-01-01    32\n",
      "2019-01-01    34\n",
      "2020-01-01    30\n",
      "Freq: AS-JAN, Name: PROV, dtype: int64\n",
      "DatetimeIndex(['2000-01-01', '2001-01-01', '2002-01-01', '2003-01-01',\n",
      "               '2004-01-01', '2005-01-01', '2006-01-01', '2007-01-01',\n",
      "               '2008-01-01', '2009-01-01', '2010-01-01', '2011-01-01',\n",
      "               '2012-01-01', '2013-01-01', '2014-01-01', '2015-01-01',\n",
      "               '2016-01-01', '2017-01-01', '2018-01-01', '2019-01-01',\n",
      "               '2020-01-01', '2021-01-01'],\n",
      "              dtype='datetime64[ns]', name='DATE', freq='AS-JAN') [22 15 14 15 28 31 22 28 25 25 29 29 24 24 24 36 40 34 32 37 49  3]\n",
      "LinregressResult(slope=1.090909090909091, intercept=-2164.9653679653684, rvalue=0.7912097661603692, pvalue=1.945588317565398e-05, stderr=0.19344095862408014)\n"
     ]
    },
    {
     "data": {
      "image/png": "[encoded data removed]",
      "text/plain": [
       "<Figure size 432x288 with 1 Axes>"
      ]
     },
     "metadata": {
      "needs_background": "light"
     },
     "output_type": "display_data"
    }
   ],
   "source": [
    "CA_Total=Data.CA_PoliceKillings['PROV'].count()\n",
    "print('Total Police Killings in Canada: Jan 2000 - June 2020: '+str(CA_Total.sum()))\n",
    "ByYear=Data.CA_PoliceKillings.resample('YS').count()['PROV']\n",
    "\n",
    "\n",
    "print(ByYear.max())\n",
    "\n",
    "CBC_Article = Data.CA_PoliceKillings.loc[Data.CA_PoliceKillings['DATA SOURCE']=='CBC Deadly Force'].resample('YS').count()['PROV']\n",
    "Missing = Data.CA_PoliceKillings.loc[Data.CA_PoliceKillings['DATA SOURCE']!='CBC Deadly Force'].resample('YS').count()['PROV']\n",
    "print(CBC_Article)\n",
    "\n",
    "print(ByYear.index,ByYear.values)\n",
    "\n",
    "LR = stats.linregress(ByYear.index.year[:-1],ByYear.values[:-1])\n",
    "print(LR)\n",
    "\n",
    "\n",
    "fig,ax=plt.subplots(1,1)\n",
    "ax.set_title('Police Involved Deaths by Year',loc='left')\n",
    "ax.bar(CBC_Article.index.year,CBC_Article.values,\n",
    "       color=[1,0,0],edgecolor='k',label='Deadly Force Article')\n",
    "ax.bar(Missing.index.year,Missing.values,bottom = np.append(CBC_Article.values,[0]),\n",
    "       color=[1,0.5,0.5],edgecolor='k',label='*Missing Records*')\n",
    "# ax.bar([2020],[ByYear.values[-1]],color=[1,.5,.5],edgecolor='k',label='Total Jan-Nov')\n",
    "ax.plot(ByYear.index.year,ByYear.index.year*LR[0]+LR[1],\n",
    "        color='k',label = 'Trend Line: '+str(np.round(LR[0],2))+' killings per year')\n",
    "plt.grid()\n",
    "plt.legend()\n",
    "plt.tight_layout()\n",
    "plt.savefig('Content/CA_Trendline.png')"
   ]
  },
  {
   "cell_type": "code",
   "execution_count": 81,
   "metadata": {},
   "outputs": [
    {
     "name": "stdout",
     "output_type": "stream",
     "text": [
      "DatetimeIndex(['2000-01-01', '2000-01-07', '2000-01-30', '2000-04-07',\n",
      "               '2000-04-11', '2000-05-31', '2000-06-02', '2000-07-16',\n",
      "               '2000-07-17', '2000-07-18',\n",
      "               ...\n",
      "               '2020-10-13', '2020-10-30', '2020-11-19', '2020-11-26',\n",
      "               '2020-11-26', '2020-12-05', '2020-12-08', '2021-01-05',\n",
      "               '2021-02-23', '2021-02-27'],\n",
      "              dtype='datetime64[ns]', name='DATE', length=586, freq=None)\n",
      "DATE\n",
      "2000-12-31     3\n",
      "2001-12-31     0\n",
      "2002-12-31     2\n",
      "2003-12-31     2\n",
      "2004-12-31     5\n",
      "2005-12-31     4\n",
      "2006-12-31     1\n",
      "2007-12-31     7\n",
      "2008-12-31     3\n",
      "2009-12-31     3\n",
      "2010-12-31     5\n",
      "2011-12-31     8\n",
      "2012-12-31     4\n",
      "2013-12-31     4\n",
      "2014-12-31     4\n",
      "2015-12-31     5\n",
      "2016-12-31    14\n",
      "2017-12-31    13\n",
      "2018-12-31     3\n",
      "2019-12-31     3\n",
      "2020-12-31     9\n",
      "Freq: A-DEC, Name: VICTIM ID, dtype: int64\n"
     ]
    }
   ],
   "source": [
    "print(Data.CA_PoliceKillings.index)\n",
    "print(Data.CA_PoliceKillings.loc[Data.CA_PoliceKillings['PROV']=='QC'].resample('Y').count()['VICTIM ID'])"
   ]
  },
  {
   "cell_type": "code",
   "execution_count": 34,
   "metadata": {},
   "outputs": [
    {
     "ename": "TypeError",
     "evalue": "Only valid with DatetimeIndex, TimedeltaIndex or PeriodIndex, but got an instance of 'Index'",
     "output_type": "error",
     "traceback": [
      "\u001b[1;31m---------------------------------------------------------------------------\u001b[0m",
      "\u001b[1;31mTypeError\u001b[0m                                 Traceback (most recent call last)",
      "\u001b[1;32m<ipython-input-34-cc6be6f90a63>\u001b[0m in \u001b[0;36m<module>\u001b[1;34m\u001b[0m\n\u001b[0;32m      1\u001b[0m \u001b[0mfig\u001b[0m\u001b[1;33m,\u001b[0m\u001b[0max\u001b[0m\u001b[1;33m=\u001b[0m\u001b[0mplt\u001b[0m\u001b[1;33m.\u001b[0m\u001b[0msubplots\u001b[0m\u001b[1;33m(\u001b[0m\u001b[1;33m)\u001b[0m\u001b[1;33m\u001b[0m\u001b[1;33m\u001b[0m\u001b[0m\n\u001b[1;32m----> 2\u001b[1;33m \u001b[0mCBC_Article\u001b[0m\u001b[1;33m=\u001b[0m\u001b[0mCBC_Article\u001b[0m\u001b[1;33m.\u001b[0m\u001b[0mresample\u001b[0m\u001b[1;33m(\u001b[0m\u001b[1;34m'YS'\u001b[0m\u001b[1;33m)\u001b[0m\u001b[1;33m.\u001b[0m\u001b[0mcount\u001b[0m\u001b[1;33m(\u001b[0m\u001b[1;33m)\u001b[0m\u001b[1;33m[\u001b[0m\u001b[1;34m'PROV'\u001b[0m\u001b[1;33m]\u001b[0m\u001b[1;33m\u001b[0m\u001b[1;33m\u001b[0m\u001b[0m\n\u001b[0m\u001b[0;32m      3\u001b[0m \u001b[0mMissing_Records\u001b[0m\u001b[1;33m=\u001b[0m\u001b[0mMissing_Records\u001b[0m\u001b[1;33m.\u001b[0m\u001b[0mresample\u001b[0m\u001b[1;33m(\u001b[0m\u001b[1;34m'YS'\u001b[0m\u001b[1;33m)\u001b[0m\u001b[1;33m.\u001b[0m\u001b[0mcount\u001b[0m\u001b[1;33m(\u001b[0m\u001b[1;33m)\u001b[0m\u001b[1;33m[\u001b[0m\u001b[1;34m'PROV'\u001b[0m\u001b[1;33m]\u001b[0m\u001b[1;33m\u001b[0m\u001b[1;33m\u001b[0m\u001b[0m\n\u001b[0;32m      4\u001b[0m \u001b[1;33m\u001b[0m\u001b[0m\n\u001b[0;32m      5\u001b[0m \u001b[0max\u001b[0m\u001b[1;33m.\u001b[0m\u001b[0mset_title\u001b[0m\u001b[1;33m(\u001b[0m\u001b[1;34m'Police Killings by Year'\u001b[0m\u001b[1;33m,\u001b[0m\u001b[0mloc\u001b[0m\u001b[1;33m=\u001b[0m\u001b[1;34m'left'\u001b[0m\u001b[1;33m)\u001b[0m\u001b[1;33m\u001b[0m\u001b[1;33m\u001b[0m\u001b[0m\n",
      "\u001b[1;32mC:\\Anaconda3\\lib\\site-packages\\pandas\\core\\generic.py\u001b[0m in \u001b[0;36mresample\u001b[1;34m(self, rule, axis, closed, label, convention, kind, loffset, base, on, level)\u001b[0m\n\u001b[0;32m   8113\u001b[0m             \u001b[0mbase\u001b[0m\u001b[1;33m=\u001b[0m\u001b[0mbase\u001b[0m\u001b[1;33m,\u001b[0m\u001b[1;33m\u001b[0m\u001b[1;33m\u001b[0m\u001b[0m\n\u001b[0;32m   8114\u001b[0m             \u001b[0mkey\u001b[0m\u001b[1;33m=\u001b[0m\u001b[0mon\u001b[0m\u001b[1;33m,\u001b[0m\u001b[1;33m\u001b[0m\u001b[1;33m\u001b[0m\u001b[0m\n\u001b[1;32m-> 8115\u001b[1;33m             \u001b[0mlevel\u001b[0m\u001b[1;33m=\u001b[0m\u001b[0mlevel\u001b[0m\u001b[1;33m,\u001b[0m\u001b[1;33m\u001b[0m\u001b[1;33m\u001b[0m\u001b[0m\n\u001b[0m\u001b[0;32m   8116\u001b[0m         )\n\u001b[0;32m   8117\u001b[0m \u001b[1;33m\u001b[0m\u001b[0m\n",
      "\u001b[1;32mC:\\Anaconda3\\lib\\site-packages\\pandas\\core\\resample.py\u001b[0m in \u001b[0;36mresample\u001b[1;34m(obj, kind, **kwds)\u001b[0m\n\u001b[0;32m   1268\u001b[0m     \"\"\"\n\u001b[0;32m   1269\u001b[0m     \u001b[0mtg\u001b[0m \u001b[1;33m=\u001b[0m \u001b[0mTimeGrouper\u001b[0m\u001b[1;33m(\u001b[0m\u001b[1;33m**\u001b[0m\u001b[0mkwds\u001b[0m\u001b[1;33m)\u001b[0m\u001b[1;33m\u001b[0m\u001b[1;33m\u001b[0m\u001b[0m\n\u001b[1;32m-> 1270\u001b[1;33m     \u001b[1;32mreturn\u001b[0m \u001b[0mtg\u001b[0m\u001b[1;33m.\u001b[0m\u001b[0m_get_resampler\u001b[0m\u001b[1;33m(\u001b[0m\u001b[0mobj\u001b[0m\u001b[1;33m,\u001b[0m \u001b[0mkind\u001b[0m\u001b[1;33m=\u001b[0m\u001b[0mkind\u001b[0m\u001b[1;33m)\u001b[0m\u001b[1;33m\u001b[0m\u001b[1;33m\u001b[0m\u001b[0m\n\u001b[0m\u001b[0;32m   1271\u001b[0m \u001b[1;33m\u001b[0m\u001b[0m\n\u001b[0;32m   1272\u001b[0m \u001b[1;33m\u001b[0m\u001b[0m\n",
      "\u001b[1;32mC:\\Anaconda3\\lib\\site-packages\\pandas\\core\\resample.py\u001b[0m in \u001b[0;36m_get_resampler\u001b[1;34m(self, obj, kind)\u001b[0m\n\u001b[0;32m   1402\u001b[0m \u001b[1;33m\u001b[0m\u001b[0m\n\u001b[0;32m   1403\u001b[0m         raise TypeError(\n\u001b[1;32m-> 1404\u001b[1;33m             \u001b[1;34m\"Only valid with DatetimeIndex, \"\u001b[0m\u001b[1;33m\u001b[0m\u001b[1;33m\u001b[0m\u001b[0m\n\u001b[0m\u001b[0;32m   1405\u001b[0m             \u001b[1;34m\"TimedeltaIndex or PeriodIndex, \"\u001b[0m\u001b[1;33m\u001b[0m\u001b[1;33m\u001b[0m\u001b[0m\n\u001b[0;32m   1406\u001b[0m             \u001b[1;34mf\"but got an instance of '{type(ax).__name__}'\"\u001b[0m\u001b[1;33m\u001b[0m\u001b[1;33m\u001b[0m\u001b[0m\n",
      "\u001b[1;31mTypeError\u001b[0m: Only valid with DatetimeIndex, TimedeltaIndex or PeriodIndex, but got an instance of 'Index'"
     ]
    },
    {
     "data": {
      "image/png": "[encoded data removed]",
      "text/plain": [
       "<Figure size 432x288 with 1 Axes>"
      ]
     },
     "metadata": {
      "needs_background": "light"
     },
     "output_type": "display_data"
    }
   ],
   "source": []
  },
  {
   "cell_type": "markdown",
   "metadata": {},
   "source": [
    "https://bccla.org/wp-content/uploads/2012/03/2012-BCCLA-Report-Police-Involved-Deaths3.pdf"
   ]
  }
 ],
 "metadata": {
  "kernelspec": {
   "display_name": "Python 3",
   "language": "python",
   "name": "python3"
  },
  "language_info": {
   "codemirror_mode": {
    "name": "ipython",
    "version": 3
   },
   "file_extension": ".py",
   "mimetype": "text/x-python",
   "name": "python",
   "nbconvert_exporter": "python",
   "pygments_lexer": "ipython3",
   "version": "3.7.6"
  }
 },
 "nbformat": 4,
 "nbformat_minor": 4
}
