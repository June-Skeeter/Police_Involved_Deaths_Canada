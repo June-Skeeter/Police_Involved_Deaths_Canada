{
 "cells": [
  {
   "cell_type": "code",
   "execution_count": 1,
   "metadata": {},
   "outputs": [],
   "source": [
    "import pandas as pd\n",
    "import numpy as np\n",
    "from IPython.display import clear_output"
   ]
  },
  {
   "cell_type": "code",
   "execution_count": 22,
   "metadata": {},
   "outputs": [
    {
     "name": "stdout",
     "output_type": "stream",
     "text": [
      "Check\n",
      "Added      28\n",
      "No        425\n",
      "Yes      1175\n",
      "Name: name, dtype: int64\n",
      "\n",
      "Prov: BC, Total:  275\n",
      "Tasks Remaining:  155\n"
     ]
    }
   ],
   "source": [
    "\n",
    "PID = pd.read_csv('Compiled/PID.csv',index_col='id_victim',parse_dates=['Date'])\n",
    "Updated = pd.read_csv('Compiled/UpdatedLocations.csv',index_col='id_victim',parse_dates=['Date'])\n",
    "# print(Updated)\n",
    "# Updated = Updated.drop('MR_195')\n",
    "PID.loc[PID.index.isin(Updated.index)]=Updated\n",
    "if Updated.loc[Updated.index.isin(PID.index)==False].shape[0]>1:\n",
    "    print('Changed/Missing: ',Updated.loc[Updated.index.isin(PID.index)==False])\n",
    "print(PID.groupby('Check').count()['name'])\n",
    "# for i,row in Updated.index)\n",
    "\n",
    "PID = PID.reset_index(drop=False).set_index(pd.DatetimeIndex(PID.Date))\n",
    "\n",
    "\n",
    "prov = 'BC'\n",
    "BC = PID.loc[((PID.prov==prov))]\n",
    "\n",
    "print()\n",
    "print('Prov: '+ prov+', Total: ',BC.shape[0])\n",
    "Missing = BC.loc[BC['Check']=='Yes'].sort_index(ascending=False)\n",
    "\n",
    "print('Tasks Remaining: ',Missing.shape[0])\n"
   ]
  },
  {
   "cell_type": "code",
   "execution_count": 23,
   "metadata": {
    "scrolled": false
   },
   "outputs": [],
   "source": [
    "def Entries():\n",
    "    city = input('Enter City/Town')\n",
    "    address = input('Enter Address/Intersection')\n",
    "    postal_code = input('Enter Postal Code')\n",
    "    return(city,address,postal_code)\n",
    "Info = ['name','age','race','Date','data_source','city_town','address_intersection','postal_code','department']\n",
    "for i, row in Missing[0:1].iterrows():\n",
    "    print(row[Info])\n",
    "#     print(row['name','age','race','Date','data_source','department'])\n",
    "#     print(row['city_town'])\n",
    "    print(row['summary'])\n",
    "    Skip = input('skip/add source: s/a')\n",
    "    if Skip != 's':\n",
    "        if Skip == 'a':\n",
    "            text = input('Enter Source')\n",
    "            Missing.loc[Missing.index==row['id_victim'],'extra_source']=text\n",
    "            text = input('Enter Summary')\n",
    "            Missing.loc[Missing.index==row['id_victim'],'summary']+='     '+text\n",
    "            text = input('Enter Race')\n",
    "            if text != '':\n",
    "                Missing.loc[Missing.index==row['id_victim'],'race']=text\n",
    "            clear_output()\n",
    "            print(Missing.loc[Missing.id_victim==row['id_victim'],\n",
    "                  Info].values)\n",
    "            print(Missing.loc[Missing.id_victim==row['id_victim'],\n",
    "                  ['summary']].values)\n",
    "            \n",
    "        city,address,postal_code=Entries()\n",
    "        print('Entries: ',city,address,postal_code)\n",
    "        keep = input('Enter/Repeat: e/r/s')\n",
    "        if keep == 'e':\n",
    "            Missing.loc[Missing['id_victim']==row['id_victim'],'city_town']=city\n",
    "            Missing.loc[Missing['id_victim']==row['id_victim'],'address_intersection']=address\n",
    "            Missing.loc[Missing['id_victim']==row['id_victim'],'postal_code']=postal_code\n",
    "            Missing.loc[Missing['id_victim']==row['id_victim'],'Check']='Added'\n",
    "        elif keep == 'r':\n",
    "            city,address,postal_code=Entries()\n",
    "            print('Entries: ',city,address,postal_code)\n",
    "            keep = input('Enter: e')\n",
    "            if keep == 'e':\n",
    "                Missing.loc[Missing['id_victim']==row['id_victim'],'city_town']=city\n",
    "                Missing.loc[Missing['id_victim']==row['id_victim'],'address_intersection']=address\n",
    "                Missing.loc[Missing['id_victim']==row['id_victim'],'postal_code']=postal_code\n",
    "                Missing.loc[Missing['id_victim']==row['id_victim'],'Check']='Added'\n",
    "    clear_output()\n",
    "    #     Unspecified\n",
    "    \n",
    "\n",
    "Missing = Missing.reset_index(drop=True).set_index(Missing['id_victim'])\n",
    "Updated = Updated.append(Missing.loc[Missing['Check']=='Added'])\n",
    "Updated.to_csv('Compiled/UpdatedLocations.csv')\n"
   ]
  },
  {
   "cell_type": "code",
   "execution_count": null,
   "metadata": {},
   "outputs": [],
   "source": []
  }
 ],
 "metadata": {
  "kernelspec": {
   "display_name": "Python 3",
   "language": "python",
   "name": "python3"
  },
  "language_info": {
   "codemirror_mode": {
    "name": "ipython",
    "version": 3
   },
   "file_extension": ".py",
   "mimetype": "text/x-python",
   "name": "python",
   "nbconvert_exporter": "python",
   "pygments_lexer": "ipython3",
   "version": "3.8.8"
  }
 },
 "nbformat": 4,
 "nbformat_minor": 4
}
