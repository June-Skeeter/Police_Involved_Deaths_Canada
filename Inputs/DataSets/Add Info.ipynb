{
 "cells": [
  {
   "cell_type": "code",
   "execution_count": 29,
   "metadata": {},
   "outputs": [],
   "source": [
    "import pandas as pd\n",
    "import numpy as np\n",
    "from IPython.display import clear_output"
   ]
  },
  {
   "cell_type": "code",
   "execution_count": 30,
   "metadata": {},
   "outputs": [],
   "source": [
    "Summary = pd.read_csv('Compiled/Summary.csv',index_col='id_victim')\n",
    "Victim = pd.read_csv('Compiled/Victim.csv',index_col='id_victim')\n",
    "Location = pd.read_csv('Compiled/Location.csv',index_col='id_victim')\n",
    "Incident = pd.read_csv('Compiled/Incident.csv',index_col='id_victim')\n",
    "# PID = PID.reset_index(drop=True).set_index(pd.DatetimeIndex(PID.Date))\n",
    "BC = Location.loc[((Location.prov=='BC'))]\n",
    "# print(BC.loc[BC['Check']==True,'id_victim'].count())\n",
    "# print(BC.columns)"
   ]
  },
  {
   "cell_type": "code",
   "execution_count": 31,
   "metadata": {
    "scrolled": false
   },
   "outputs": [],
   "source": [
    "Missing = BC.loc[BC['Check']==True]\n",
    "def Entries():\n",
    "    city = input('Enter City/Town')\n",
    "    address = input('Enter Address/Intersection')\n",
    "    postal_code = input('Enter Postal Code')\n",
    "    return(city,address,postal_code)\n",
    "for i, row in Missing[0:5].iterrows():\n",
    "#     print(row)\n",
    "    print(Victim.loc[Victim.index==i,['name','age','race']])\n",
    "    print(Incident.loc[Incident.index==i,['Date','data_source','department']])\n",
    "    print(row['city_town'])\n",
    "    print(Summary.loc[Summary.index==i,'summary'].values)\n",
    "    Skip = input('skip/add source: s/a')\n",
    "    if Skip != 's':\n",
    "        if Skip == 'a':\n",
    "            text = input('Enter Source')\n",
    "            Summary.loc[Summary.index==i,'extra_source']=text\n",
    "            text = input('Enter Summary')\n",
    "            Summary.loc[Summary.index==i,'summary']+='     '+text\n",
    "            text = input('Enter Race')\n",
    "            if text != '':\n",
    "                Victim.loc[Victim.index==i,'race']=text\n",
    "            clear_output()\n",
    "            print(Victim.loc[Victim.index==i,['name','age','race']])\n",
    "            print(Incident.loc[Incident.index==i,['Date','data_source','department']])\n",
    "            print(row['city_town'])\n",
    "            print(Summary.loc[Summary.index==i,'summary'].values)\n",
    "            \n",
    "        city,address,postal_code=Entries()\n",
    "        print('Entries: ',city,address,postal_code)\n",
    "        keep = input('Enter/Repeat: e/r/s')\n",
    "        if keep == 'e':\n",
    "            BC.loc[BC.index==i,'city_town']=city\n",
    "            BC.loc[BC.index==i,'address_intersection']=text\n",
    "            BC.loc[BC.index==i,'postal_code']=postal_code\n",
    "            BC.loc[BC.index==i,'Check']=False\n",
    "        elif keep == 'r':\n",
    "            city,address,postal_code=Entries()\n",
    "            print('Entries: ',city,address,postal_code)\n",
    "            keep = input('Enter: e')\n",
    "            if keep == 'e':\n",
    "                BC.loc[BC.index==i,'city_town']=city\n",
    "                BC.loc[BC.index==i,'address_intersection']=text\n",
    "                BC.loc[BC.index==i,'postal_code']=postal_code\n",
    "                BC.loc[BC.index==i,'Check']=False\n",
    "    clear_output()\n",
    "    #     Unspecified"
   ]
  },
  {
   "cell_type": "code",
   "execution_count": 32,
   "metadata": {},
   "outputs": [],
   "source": [
    "Summary.to_csv('Compiled/Summary.csv')\n",
    "Victim.to_csv('Compiled/Victim.csv')\n",
    "Location.to_csv('Compiled/Location.csv')\n",
    "Incident.to_csv('Compiled/Incident.csv')"
   ]
  },
  {
   "cell_type": "code",
   "execution_count": null,
   "metadata": {},
   "outputs": [],
   "source": []
  }
 ],
 "metadata": {
  "kernelspec": {
   "display_name": "Python 3",
   "language": "python",
   "name": "python3"
  },
  "language_info": {
   "codemirror_mode": {
    "name": "ipython",
    "version": 3
   },
   "file_extension": ".py",
   "mimetype": "text/x-python",
   "name": "python",
   "nbconvert_exporter": "python",
   "pygments_lexer": "ipython3",
   "version": "3.7.6"
  }
 },
 "nbformat": 4,
 "nbformat_minor": 4
}
